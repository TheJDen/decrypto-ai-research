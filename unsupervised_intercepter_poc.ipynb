{
 "cells": [
  {
   "cell_type": "markdown",
   "metadata": {},
   "source": [
    "# Expanding on Modeling with Random Variables\n",
    "\n",
    "When modeling the Guesser, I made the decision to represent the keywords as random variables. This decision may seem a bit contrived because the Guesser only has one keyword. It is in the case of the Intercepter where this decision becomes more clear. The Intercepter does not know what their opponent's keywords are, but they know each of the opponent's keywords is *a* word. Therefore, the Intercepter may find utility in thinking of each keyword as having a certain probability of being any possible word.\n",
    "\n",
    "Furthermore, when an Intercepter learns about random variables through clues, it's impression of each opponent keyword (the distribution it has for each random variable) may change. We may realize that if our Encryptor is naive and always gives revealing clues, the Interceptor's representation approaches the Guesser's in the limit as rounds continue!\n",
    "\n",
    "Therefore, if we can appropriately modify the Interceptor's distribution for each random variable, we may use the same guessing algorithm for it to make guesses!\n",
    "\n",
    "Interestingly, this evokes notions of entropy and information. We may be able to quantify how many bits of information a clue gave the Intercepter by comparing the entropy of its random variables before and after the round. The difference in entropy should correspond to the gained information.\n",
    "\n",
    "As an Encryptor, we might recognize that our clues are giving the opponent Intercepter information, and give a bad clue to increase the entropy of the opponent Intercepter's random variables. A good Encryption strategy might be to keep track of how much entropy you expect the Intercepter has to deal with, and to present a misleading or revealing clue accordingly."
   ]
  },
  {
   "cell_type": "markdown",
   "metadata": {},
   "source": [
    "## Initial Distributions\n",
    "\n",
    "If our Intercepter is well-versed in Decrypto, it may recognize that there is an almost equal probability of the opponent's keywords being each of the official keywords. That feels a bit like cheating, though; I usually don't know the official keywords when I play. So, our Intercepter may guess less omnipotently that it may be any word. As we have seen, it may make sense to only include nouns, but we may consider that later.\n",
    "\n",
    "It may also make sense to scale according to frequency. That is, extremely rare words are probably less likely to be a keyword than more common words. We may employ Zipf's law to scale this effectively."
   ]
  },
  {
   "cell_type": "code",
   "execution_count": 1,
   "metadata": {},
   "outputs": [
    {
     "name": "stdout",
     "output_type": "stream",
     "text": [
      "NumpyRandomVariable(log_probabilities=array([-1.79175947, -1.79175947, -1.79175947, -1.79175947, -1.79175947,\n",
      "       -1.79175947]), keyword_indices=array([0, 1, 2, 3, 4, 5]))\n",
      "[0.16666667 0.16666667 0.16666667 0.16666667 0.16666667 0.16666667]\n",
      "1.0000000000000002\n",
      "NumpyRandomVariable(log_probabilities=array([-0.89608802, -1.58923521, -1.99470031, -2.28238239, -2.50552594,\n",
      "       -2.68784749]), keyword_indices=array([0, 1, 2, 3, 4, 5]))\n",
      "[0.40816327 0.20408163 0.13605442 0.10204082 0.08163265 0.06802721]\n",
      "1.0000000000000002\n"
     ]
    }
   ],
   "source": [
    "import numpy as np\n",
    "import numpy_guesser as npg\n",
    "\n",
    "ALL_WORDS = (\"BOAT\", \"CAT\", \"RUM\", \"DRAG\", \"ANTIQUITY\", \"CYCLOPS\")\n",
    "ALL_WORD_INDEX = {word: ALL_WORDS.index(word) for word in ALL_WORDS}\n",
    "\n",
    "# shape-preserving normalization\n",
    "\n",
    "def normalized(log_probabilities: np.array) -> np.array:\n",
    "    log_cumulative_density = npg.log_expected_probability(lambda i: np.NZERO, log_probabilities, np.zeros(len(log_probabilities))) \n",
    "    log_normalization_factor = -log_cumulative_density # log(1) - ...\n",
    "    return log_probabilities + log_normalization_factor\n",
    "\n",
    "# initial distribution strategies\n",
    "\n",
    "def equal_initial_distribution(word_index):\n",
    "    log_probabilities = normalized(np.zeros(len(word_index)) - np.log(len(word_index)))\n",
    "    keyword_indices = np.arange(len(word_index))\n",
    "    return npg.NumpyRandomVariable(log_probabilities, keyword_indices)\n",
    "\n",
    "def zipf_initial_distribution(word_index):\n",
    "    log_probabilities = normalized(-np.log(np.arange(1, len(word_index) + 1))) # log(1) - ...\n",
    "    keyword_indices = np.arange(len(word_index))\n",
    "    return npg.NumpyRandomVariable(log_probabilities, keyword_indices)\n",
    "\n",
    "eq = equal_initial_distribution(ALL_WORD_INDEX)\n",
    "zipf = zipf_initial_distribution(ALL_WORD_INDEX)\n",
    "print(eq)\n",
    "print(np.exp(eq.log_probabilities))\n",
    "print(np.sum(np.exp(eq.log_probabilities)))\n",
    "print(zipf)\n",
    "print(np.exp(zipf.log_probabilities))\n",
    "print(np.sum(np.exp(zipf.log_probabilities)))\n",
    "\n"
   ]
  },
  {
   "cell_type": "markdown",
   "metadata": {},
   "source": [
    "## Updating Distributions\n",
    "\n",
    "How should our Intercepter update it's internal representation of each distribution upon learning new clues? This is key to how it will improve its guesses over time.\n",
    "\n",
    "An astute Intercepter may recognize that an astute opposing Encryptor may be misleading at times, and change its distribution-updating strategy accordingly (man this is getting meta). We will ignore this for now, and come up with strategies that assume clues are \"good\".\n",
    "\n",
    "A general update strategy may look like multiplying probabilities elementwise, and renormalizing. That is, an Intercepter will multiply each current keyword probability by the likelihood that the clue was for the keyword. Then, it will scale the distribution by a constant factor so that it still adds to 1. The difference in strategies will reside in how the likelihood that the clue was for each keyword is derived.\n",
    "\n",
    "Let's make up a fake heuristic just to see if we can get the Intercepter to update it's representation well."
   ]
  },
  {
   "cell_type": "code",
   "execution_count": null,
   "metadata": {},
   "outputs": [],
   "source": []
  },
  {
   "cell_type": "code",
   "execution_count": 14,
   "metadata": {},
   "outputs": [
    {
     "data": {
      "image/png": "[encoded data removed]",
      "text/plain": [
       "<Figure size 640x480 with 1 Axes>"
      ]
     },
     "metadata": {},
     "output_type": "display_data"
    },
    {
     "data": {
      "image/png": "[encoded data removed]",
      "text/plain": [
       "<Figure size 640x480 with 1 Axes>"
      ]
     },
     "metadata": {},
     "output_type": "display_data"
    }
   ],
   "source": [
    "import seaborn as sns\n",
    "import matplotlib.pyplot as plt\n",
    "\n",
    "def plot_random_var(random_var: npg.NumpyRandomVariable):\n",
    "    _, ax = plt.subplots()\n",
    "    data = dict(zip(random_var.keyword_indices, np.exp(random_var.log_probabilities)))\n",
    "    sns.barplot(data, ax=ax).set(ylim=(0, 1))\n",
    "\n",
    "\n",
    "plot_random_var(eq)\n",
    "plot_random_var(zipf)\n"
   ]
  }
 ],
 "metadata": {
  "kernelspec": {
   "display_name": ".venv",
   "language": "python",
   "name": "python3"
  },
  "language_info": {
   "codemirror_mode": {
    "name": "ipython",
    "version": 3
   },
   "file_extension": ".py",
   "mimetype": "text/x-python",
   "name": "python",
   "nbconvert_exporter": "python",
   "pygments_lexer": "ipython3",
   "version": "3.11.3"
  },
  "orig_nbformat": 4
 },
 "nbformat": 4,
 "nbformat_minor": 2
}
