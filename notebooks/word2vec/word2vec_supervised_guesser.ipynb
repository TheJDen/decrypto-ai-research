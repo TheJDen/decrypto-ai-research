{
 "cells": [
  {
   "cell_type": "markdown",
   "metadata": {},
   "source": [
    "## Modelling a supervised Guesser\n",
    "\n",
    "Modelling the unsupervised guesser and creating a synthetic dataset made me realize I could attempt making a supervised Guesser as well. Although there will be a lot of tradeoffs in terms of parallelization, pretraining, and clarity, hopefully it may in turn yield a better performance.\n",
    "\n",
    "We can use word2vec once more to get semantic context features."
   ]
  },
  {
   "cell_type": "code",
   "execution_count": 1,
   "metadata": {},
   "outputs": [
    {
     "name": "stdout",
     "output_type": "stream",
     "text": [
      "Loading 200000 keys\n"
     ]
    }
   ],
   "source": [
    "import decryptoai.word2vec_loader.loader as wv_loader\n",
    "\n",
    "limit = 200_000\n",
    "print(f\"Loading {limit} keys\")\n",
    "google_news_wv = wv_loader.load_word2vec_keyedvectors(limit=limit, debug=True)"
   ]
  },
  {
   "cell_type": "markdown",
   "metadata": {},
   "source": [
    "Let's take the synthetic dataset and make a training and test split. CHeckout the datamuse notebook if you haven't built it yet."
   ]
  },
  {
   "cell_type": "code",
   "execution_count": 2,
   "metadata": {},
   "outputs": [],
   "source": [
    "import decryptoai.config as cfg\n",
    "import numpy as np\n",
    "import pandas\n",
    "\n",
    "meaning_df = pandas.read_csv(cfg.MEANING_CSV_PATH)\n",
    "triggerword_df = pandas.read_csv(cfg.TRIGGERWORD_CSV_PATH)\n",
    "\n",
    "# together there are about 70,000 samples\n",
    "# if we save 80% for training and 20% for testing we get a similar split as MNIST\n",
    "split_ratio = 0.8\n",
    "meaning_split_index = int(len(meaning_df) * split_ratio)\n",
    "triggerword_split_index = int(len(triggerword_df) * split_ratio)\n",
    "\n",
    "meaning_train, meaning_test = meaning_df[:meaning_split_index], meaning_df[meaning_split_index:]\n",
    "triggerword_train, triggerword_test = triggerword_df[:triggerword_split_index], triggerword_df[triggerword_split_index:]\n",
    "\n",
    "\n",
    "train_df, test_df = pandas.concat([meaning_train, triggerword_train], axis=0), pandas.concat([meaning_test, triggerword_test], axis=0)"
   ]
  },
  {
   "cell_type": "markdown",
   "metadata": {},
   "source": [
    "A naive way to encode each clue would be to put each keyword embedding followed by each clue embedding in order."
   ]
  },
  {
   "cell_type": "code",
   "execution_count": 3,
   "metadata": {},
   "outputs": [],
   "source": [
    "import torch\n",
    "\n",
    "\n",
    "def features_to_tensor(features: pandas.Series):\n",
    "    words_to_vecs = features.map(wv_loader.official_keyword_to_word).map(google_news_wv.__getitem__)\n",
    "    return torch.from_numpy(np.array(words_to_vecs.tolist())).contiguous()\n",
    "\n",
    "# initialize DataLoader\n",
    "train_features, train_target = train_df.drop('code_index', axis=1), train_df['code_index']\n",
    "\n",
    "# pytorch requires this to be Sequence of input, label pairs. If we can't store in RAM will make custom Dataset class\n",
    "training_data = [((features_to_tensor(train_features.iloc[i][:4]), features_to_tensor(train_features.iloc[i][4:])), train_target.iloc[i]) for i in range(len(train_features))]"
   ]
  },
  {
   "cell_type": "code",
   "execution_count": 4,
   "metadata": {},
   "outputs": [
    {
     "name": "stdout",
     "output_type": "stream",
     "text": [
      "keyword1     BUTTERFLY\n",
      "keyword2       PLUMBER\n",
      "keyword3          FOOT\n",
      "keyword4         BLOOD\n",
      "clue1           insect\n",
      "clue2       bricklayer\n",
      "clue3       foundation\n",
      "Name: 0, dtype: object\n"
     ]
    }
   ],
   "source": [
    "print(train_features.iloc[0])"
   ]
  },
  {
   "cell_type": "markdown",
   "metadata": {},
   "source": [
    "We may use the negative log probability as the loss because we already found that it is a good metric for determining guesses with the unsupervised guesser. An architecture which uses sigmoids and convolutions should help the model come up with features resembling probabilistic quantities."
   ]
  },
  {
   "cell_type": "code",
   "execution_count": 5,
   "metadata": {},
   "outputs": [],
   "source": [
    "import os\n",
    "\n",
    "torch.manual_seed(1337)\n",
    "train_dataloader = torch.utils.data.DataLoader(training_data, batch_size=128, shuffle=True)\n",
    "\n",
    "# instance, loss, optimizer\n",
    "device = 'cuda:0' if torch.cuda.is_available() else 'cpu'\n",
    "\n",
    "# maximizing log-likelihood is a decent metric for this classification - see unsupervised notebook for more\n",
    "loss_func = torch.nn.CrossEntropyLoss()\n",
    "\n",
    "def train_loop(classifier, num_epochs=20, seed=1337):\n",
    "    torch.manual_seed(seed)\n",
    "    optimizer  = torch.optim.Adam(classifier.parameters(), lr=1e-5)\n",
    "    for _ in range(num_epochs):\n",
    "        for (K, C), y in train_dataloader: # loop through batches\n",
    "            K, C = K.to(device), C.to(device)\n",
    "            yhat = classifier(K, C)\n",
    "            loss = loss_func(yhat, y)\n",
    "\n",
    "            # backpropagation\n",
    "            optimizer.zero_grad()\n",
    "            loss.backward()\n",
    "            optimizer.step()\n",
    "        yield loss.item()"
   ]
  },
  {
   "cell_type": "code",
   "execution_count": 6,
   "metadata": {},
   "outputs": [],
   "source": [
    "# dict for storing training losses of each model\n",
    "import collections\n",
    "training_losses = collections.defaultdict(list)"
   ]
  },
  {
   "cell_type": "code",
   "execution_count": 7,
   "metadata": {},
   "outputs": [
    {
     "name": "stdout",
     "output_type": "stream",
     "text": [
      "Epoch 0 loss: 3.184074640274048\n",
      "Epoch 1 loss: 3.1746420860290527\n",
      "Epoch 2 loss: 3.183427095413208\n",
      "Epoch 3 loss: 3.1809241771698\n",
      "Epoch 4 loss: 3.185042142868042\n",
      "Epoch 5 loss: 3.1814968585968018\n",
      "Epoch 6 loss: 3.1795854568481445\n",
      "Epoch 7 loss: 3.1910719871520996\n",
      "Epoch 8 loss: 3.1883158683776855\n",
      "Epoch 9 loss: 3.1775779724121094\n",
      "Epoch 10 loss: 3.1805620193481445\n",
      "Epoch 11 loss: 3.1844146251678467\n",
      "Epoch 12 loss: 3.1778600215911865\n",
      "Epoch 13 loss: 3.182830572128296\n",
      "Epoch 14 loss: 3.1735007762908936\n",
      "Epoch 15 loss: 3.1804006099700928\n",
      "Epoch 16 loss: 3.172732353210449\n",
      "Epoch 17 loss: 3.1752617359161377\n",
      "Epoch 18 loss: 3.176784038543701\n",
      "Epoch 19 loss: 3.1759088039398193\n"
     ]
    }
   ],
   "source": [
    "# adapted from MNIST example https://github.com/nicknochnack/PyTorchin15\n",
    "\n",
    "class ClueClassifier(torch.nn.Module):\n",
    "    def __init__(self):\n",
    "        super().__init__()\n",
    "        self.l1 = torch.nn.Linear(300, 256)\n",
    "        self.c1 = torch.nn.Conv1d(256, 128, 2)\n",
    "        self.l2 = torch.nn.Linear(128, 64)\n",
    "        self.c2 = torch.nn.Conv1d(64, 32, 2)\n",
    "        self.l3 = torch.nn.Linear(32, 16)\n",
    "        self.c3 = torch.nn.Conv1d(16, 8, 2)\n",
    "        self.l4 = torch.nn.Linear(32, 24)\n",
    "        # 24 outputs = 4 permute 3 codes\n",
    "\n",
    "\n",
    "    def forward(self, K, C):\n",
    "        x = torch.concat((K, C), -2).to(device)\n",
    "        x = torch.nn.functional.relu(self.l1(x))\n",
    "        xt = x.transpose(-1, -2)\n",
    "        x = torch.nn.functional.relu(self.c1(xt))\n",
    "        xt = x.transpose(-1, -2)\n",
    "        x = torch.nn.functional.relu(self.l2(xt))\n",
    "        xt = x.transpose(-1, -2)\n",
    "        x = torch.nn.functional.relu(self.c2(xt))\n",
    "        xt = x.transpose(-1, -2)\n",
    "        x = torch.nn.functional.relu(self.l3(xt))\n",
    "        xt = x.transpose(-1, -2)\n",
    "        x = torch.nn.functional.relu(self.c3(xt))\n",
    "        x = x.flatten(1)\n",
    "        x = torch.nn.functional.relu(self.l4(x))\n",
    "        return x\n",
    "    \n",
    "classifier = ClueClassifier().to(device)\n",
    "\n",
    "model_path = \"model_state.pt\"\n",
    "if not os.path.exists(model_path):\n",
    "    for epoch, loss in enumerate(train_loop(classifier)):\n",
    "        training_losses[\"naive\"].append(loss)\n",
    "        print(f\"Epoch {epoch} loss: {loss}\")\n",
    "    with open(model_path, 'wb') as f:\n",
    "        torch.save(classifier.state_dict(), f)\n",
    "else:\n",
    "    with open(model_path, 'rb') as f:\n",
    "        classifier.load_state_dict(torch.load(f))"
   ]
  },
  {
   "cell_type": "code",
   "execution_count": 8,
   "metadata": {},
   "outputs": [
    {
     "data": {
      "image/png": "[encoded data removed]",
      "text/plain": [
       "<Figure size 640x480 with 1 Axes>"
      ]
     },
     "metadata": {},
     "output_type": "display_data"
    }
   ],
   "source": [
    "import matplotlib.pyplot as plt\n",
    "import numpy as np\n",
    "\n",
    "xpoints = np.arange(len(training_losses[\"naive\"]))\n",
    "ypoints = np.array(training_losses[\"naive\"])\n",
    "\n",
    "ax = plt.gca()\n",
    "ax.set_ylim([0, 4])\n",
    "\n",
    "plt.plot(xpoints, ypoints)\n",
    "plt.show()"
   ]
  },
  {
   "cell_type": "code",
   "execution_count": 9,
   "metadata": {},
   "outputs": [
    {
     "name": "stdout",
     "output_type": "stream",
     "text": [
      "14400\n",
      "tensor(0.0417)\n"
     ]
    }
   ],
   "source": [
    "test_features, test_target = test_df.drop('code_index', axis=1), test_df['code_index']\n",
    "testing_data = [((features_to_tensor(test_features.iloc[i][:4]), features_to_tensor(test_features.iloc[i][4:])), test_target.iloc[i]) for i in range(len(test_features))]\n",
    "with torch.no_grad():\n",
    "    total = len(testing_data)\n",
    "    correct = 0\n",
    "    for (K, C), y in testing_data:\n",
    "        out = classifier(K.unsqueeze(0), C.unsqueeze(0))\n",
    "        guess = torch.argmax(torch.softmax(out, 0))\n",
    "        correct += guess == y\n",
    "print(len(testing_data))\n",
    "print(correct / total)"
   ]
  },
  {
   "cell_type": "markdown",
   "metadata": {},
   "source": [
    "For each training epoch, the loss stayed around 3.17. As we can see, our model is having trouble learning.\n",
    "\n",
    "We are asking it to do a lot. Not only are we asking it to come up with a maximum log probability guess, but we are implicitly asking it to learn the context of the game. Unlike the supervised guesser, our net knows nothing about how each keyword and clueword is related, or that the cluewords should be related to some of the keywords. Maybe there is an input format which will reflect this better.\n",
    "\n",
    "What if instead of thinking of the input as a sequence \n",
    "\n",
    "```K1 K2 K3 K4 C1 C2 C3```\n",
    "\n",
    "we thought of it as a matrix\n",
    "```   \n",
    "      C1      C2     C3\n",
    "K1   K1C1    K1C2   K1C3\n",
    "\n",
    "K2   K2C1    K2C2   K2C3\n",
    "\n",
    "K3   K3C1    K3C2   K3C3\n",
    "\n",
    "K4   K4C1    K4C2   K4C3\n",
    "\n",
    "```\n",
    "\n",
    "This encodes the input as keyword-clue pairs that the classifier may have an easier time learning associations for, because it explicitly establishes the keywords and clues as orthogonal. If we can build features for each keyword-clue pair, then this may allow us to build features representing 2 keyword-clue pairings, and even 3 keyword-clue pairings, which is exactly what our model should be learning to classify."
   ]
  },
  {
   "cell_type": "code",
   "execution_count": 10,
   "metadata": {},
   "outputs": [
    {
     "name": "stdout",
     "output_type": "stream",
     "text": [
      "Epoch 0 loss: 3.109863758087158\n",
      "Epoch 1 loss: 2.501433849334717\n",
      "Epoch 2 loss: 2.2803399562835693\n",
      "Epoch 3 loss: 2.3245556354522705\n",
      "Epoch 4 loss: 2.096872091293335\n",
      "Epoch 5 loss: 2.0979433059692383\n",
      "Epoch 6 loss: 2.1253561973571777\n",
      "Epoch 7 loss: 2.120602607727051\n",
      "Epoch 8 loss: 2.064939260482788\n",
      "Epoch 9 loss: 2.1398000717163086\n",
      "Epoch 10 loss: 1.9632827043533325\n",
      "Epoch 11 loss: 2.0248703956604004\n",
      "Epoch 12 loss: 2.049873113632202\n",
      "Epoch 13 loss: 2.0359504222869873\n",
      "Epoch 14 loss: 2.0691568851470947\n",
      "Epoch 15 loss: 1.81076979637146\n",
      "Epoch 16 loss: 1.9572396278381348\n",
      "Epoch 17 loss: 2.1670713424682617\n",
      "Epoch 18 loss: 1.7167640924453735\n",
      "Epoch 19 loss: 1.6997170448303223\n"
     ]
    }
   ],
   "source": [
    "class ClueClassifierPairs(torch.nn.Module):\n",
    "    def __init__(self):\n",
    "        super().__init__()\n",
    "        self.l1 = torch.nn.Linear(3 * 4 * 300, 1800)\n",
    "        self.l2 = torch.nn.Linear(1800, 900)\n",
    "        self.l3 = torch.nn.Linear(900, 450)\n",
    "        self.l4 = torch.nn.Linear(450, 24)\n",
    "        # 24 outputs = 4 permute 3 codes\n",
    "\n",
    "\n",
    "    def forward(self, k: torch.Tensor, c: torch.Tensor):\n",
    "        pairs = k.unsqueeze(-2) * c.unsqueeze(-3)\n",
    "        x = pairs.flatten(-3)\n",
    "        x = torch.nn.functional.relu(self.l1(x))\n",
    "        x = torch.nn.functional.relu(self.l2(x))\n",
    "        x = torch.nn.functional.relu(self.l3(x))\n",
    "        x = torch.nn.functional.relu(self.l4(x))\n",
    "        return x\n",
    "    \n",
    "classifier = ClueClassifierPairs().to(device)\n",
    "optimizer  = torch.optim.Adam(classifier.parameters(), lr=1e-5)\n",
    "\n",
    "# maximizing log-likelihood is a decent metric for this classification - see unsupervised notebook for more\n",
    "loss_func = torch.nn.CrossEntropyLoss()\n",
    "\n",
    "\n",
    "\n",
    "# train loop\n",
    "model_path = \"model_state_pairs.pt\"\n",
    "if not os.path.exists(model_path):\n",
    "    for epoch, loss in enumerate(train_loop(classifier)):\n",
    "        training_losses[\"pairs\"].append(loss)\n",
    "        print(f\"Epoch {epoch} loss: {loss}\")\n",
    "    with open(model_path, 'wb') as f:\n",
    "        torch.save(classifier.state_dict(), f)\n",
    "else:\n",
    "    with open(model_path, 'rb') as f:\n",
    "        classifier.load_state_dict(torch.load(f))"
   ]
  },
  {
   "cell_type": "code",
   "execution_count": 11,
   "metadata": {},
   "outputs": [
    {
     "name": "stdout",
     "output_type": "stream",
     "text": [
      "14400\n",
      "tensor(0.4150)\n"
     ]
    }
   ],
   "source": [
    "test_features, test_target = test_df.drop('code_index', axis=1), test_df['code_index']\n",
    "testing_data = [((features_to_tensor(test_features.iloc[i][:4]), features_to_tensor(test_features.iloc[i][4:])), test_target.iloc[i]) for i in range(len(test_features))]\n",
    "with torch.no_grad():\n",
    "    total = len(testing_data)\n",
    "    correct = 0\n",
    "    for (K, C), y in testing_data:\n",
    "        out = classifier(K, C)\n",
    "        guess = torch.argmax(torch.softmax(out, 0))\n",
    "        correct += guess == y\n",
    "print(len(testing_data))\n",
    "print(correct / total)"
   ]
  },
  {
   "cell_type": "markdown",
   "metadata": {},
   "source": [
    "A substantial improvement! We should be careful with the multiplication because softmax is sensitive. If the values are too small it may be too uniform, and if they are too large it may give an output like a one-hot encoding. It would be worth scaling the inputs such that their variance is about 1 if they aren't already."
   ]
  },
  {
   "cell_type": "code",
   "execution_count": 12,
   "metadata": {},
   "outputs": [
    {
     "name": "stdout",
     "output_type": "stream",
     "text": [
      "tensor(0.0330) tensor(0.0378) tensor(0.0014)\n"
     ]
    }
   ],
   "source": [
    "k, c = next(iter(train_dataloader))[0]\n",
    "print(k.var(), c.var(), (k.unsqueeze(-2) * c.unsqueeze(-3)).var())\n"
   ]
  },
  {
   "cell_type": "markdown",
   "metadata": {},
   "source": [
    "Notice that the values get smaller by a couple orders of magnitude, and that's just for this example. Let's adjust the variance with a simple scalar."
   ]
  },
  {
   "cell_type": "code",
   "execution_count": 13,
   "metadata": {},
   "outputs": [
    {
     "name": "stdout",
     "output_type": "stream",
     "text": [
      "0.056122936\n",
      "0.05773502691896257\n"
     ]
    }
   ],
   "source": [
    "print(np.array([(google_news_wv[i]).var() for i in range(200_000)]).mean())\n",
    "print(1 / (300 ** 0.5))"
   ]
  },
  {
   "cell_type": "markdown",
   "metadata": {},
   "source": [
    "I don't want to prove it but these numbers are suspiciously close. I'm going to assume the constant I should scale by informed by this."
   ]
  },
  {
   "cell_type": "code",
   "execution_count": 14,
   "metadata": {},
   "outputs": [
    {
     "name": "stdout",
     "output_type": "stream",
     "text": [
      "Epoch 0 loss: 2.346200704574585\n",
      "Epoch 1 loss: 1.763702154159546\n",
      "Epoch 2 loss: 1.5686112642288208\n",
      "Epoch 3 loss: 1.4595974683761597\n",
      "Epoch 4 loss: 1.3134533166885376\n",
      "Epoch 5 loss: 1.3430025577545166\n",
      "Epoch 6 loss: 1.1300344467163086\n",
      "Epoch 7 loss: 1.064315676689148\n",
      "Epoch 8 loss: 1.176363468170166\n",
      "Epoch 9 loss: 1.0821633338928223\n",
      "Epoch 10 loss: 1.0519684553146362\n",
      "Epoch 11 loss: 0.935781717300415\n",
      "Epoch 12 loss: 1.2319140434265137\n",
      "Epoch 13 loss: 1.0454274415969849\n",
      "Epoch 14 loss: 0.9662264585494995\n",
      "Epoch 15 loss: 0.8441006541252136\n",
      "Epoch 16 loss: 0.997769832611084\n",
      "Epoch 17 loss: 0.9108225703239441\n",
      "Epoch 18 loss: 0.6846254467964172\n",
      "Epoch 19 loss: 0.6707579493522644\n"
     ]
    }
   ],
   "source": [
    "class ClueClassifierPairsNormalized(torch.nn.Module):\n",
    "    def __init__(self):\n",
    "        super().__init__()\n",
    "        self.l1 = torch.nn.Linear(3 * 4 * 300, 1800)\n",
    "        self.l2 = torch.nn.Linear(1800, 900)\n",
    "        self.l3 = torch.nn.Linear(900, 450)\n",
    "        self.l4 = torch.nn.Linear(450, 24)\n",
    "        # 24 outputs = 4 permute 3 codes\n",
    "\n",
    "\n",
    "    def forward(self, k: torch.Tensor, c: torch.Tensor):\n",
    "        pairs = k.unsqueeze(-2) * c.unsqueeze(-3) * (300 ** 0.5)\n",
    "        x = pairs.flatten(-3)\n",
    "        x = torch.nn.functional.relu(self.l1(x))\n",
    "        x = torch.nn.functional.relu(self.l2(x))\n",
    "        x = torch.nn.functional.relu(self.l3(x))\n",
    "        x = torch.nn.functional.relu(self.l4(x))\n",
    "        return x\n",
    "    \n",
    "classifier = ClueClassifierPairsNormalized().to(device)\n",
    "optimizer  = torch.optim.Adam(classifier.parameters(), lr=1e-5)\n",
    "\n",
    "# maximizing log-likelihood is a decent metric for this classification - see unsupervised notebook for more\n",
    "loss_func = torch.nn.CrossEntropyLoss()\n",
    "\n",
    "\n",
    "\n",
    "# train loop\n",
    "model_path = \"model_state_pairs_normalized.pt\"\n",
    "if not os.path.exists(model_path):\n",
    "    for epoch, loss in enumerate(train_loop(classifier)):\n",
    "        training_losses[\"pairs_normalized\"].append(loss)\n",
    "        print(f\"Epoch {epoch} loss: {loss}\")\n",
    "\n",
    "    with open(model_path, 'wb') as f:\n",
    "        torch.save(classifier.state_dict(), f)\n",
    "else:\n",
    "    with open(model_path, 'rb') as f:\n",
    "        classifier.load_state_dict(torch.load(f))"
   ]
  },
  {
   "cell_type": "code",
   "execution_count": 15,
   "metadata": {},
   "outputs": [
    {
     "name": "stdout",
     "output_type": "stream",
     "text": [
      "14400\n",
      "tensor(0.6111)\n"
     ]
    }
   ],
   "source": [
    "test_features, test_target = test_df.drop('code_index', axis=1), test_df['code_index']\n",
    "testing_data = [((features_to_tensor(test_features.iloc[i][:4]), features_to_tensor(test_features.iloc[i][4:])), test_target.iloc[i]) for i in range(len(test_features))]\n",
    "with torch.no_grad():\n",
    "    total = len(testing_data)\n",
    "    correct = 0\n",
    "    for (K, C), y in testing_data:\n",
    "        out = classifier(K, C)\n",
    "        guess = torch.argmax(torch.softmax(out, 0))\n",
    "        correct += guess == y\n",
    "print(len(testing_data))\n",
    "print(correct / total)"
   ]
  },
  {
   "cell_type": "markdown",
   "metadata": {},
   "source": [
    "Even though the introduction of the matrix abstraction allows the feed forward network to build features based off each keyword-clue pair, the multiplication aspect is fixed. The model has no room to learn how much each channel should contribute to each product, or how keywords contribute differently from cluewords. Introducing a simple layer before the operation should allow for this."
   ]
  },
  {
   "cell_type": "code",
   "execution_count": 16,
   "metadata": {},
   "outputs": [
    {
     "name": "stdout",
     "output_type": "stream",
     "text": [
      "Epoch 0 loss: 3.1793270111083984\n",
      "Epoch 1 loss: 3.1375420093536377\n",
      "Epoch 2 loss: 1.1790896654129028\n",
      "Epoch 3 loss: 0.39304831624031067\n",
      "Epoch 4 loss: 0.2604251801967621\n",
      "Epoch 5 loss: 0.20799697935581207\n",
      "Epoch 6 loss: 0.20477299392223358\n",
      "Epoch 7 loss: 0.09832645952701569\n",
      "Epoch 8 loss: 0.13844120502471924\n",
      "Epoch 9 loss: 0.18248754739761353\n",
      "Epoch 10 loss: 0.10458698868751526\n",
      "Epoch 11 loss: 0.10495375096797943\n",
      "Epoch 12 loss: 0.08463545888662338\n",
      "Epoch 13 loss: 0.22556006908416748\n",
      "Epoch 14 loss: 0.1013873741030693\n",
      "Epoch 15 loss: 0.20006170868873596\n",
      "Epoch 16 loss: 0.050872448831796646\n",
      "Epoch 17 loss: 0.12492848187685013\n",
      "Epoch 18 loss: 0.22781656682491302\n",
      "Epoch 19 loss: 0.22396501898765564\n"
     ]
    }
   ],
   "source": [
    "class ClueClassifierKeyCluePairs(torch.nn.Module):\n",
    "    def __init__(self):\n",
    "        super().__init__()\n",
    "        self.k = torch.nn.Linear(300, 300)\n",
    "        self.c = torch.nn.Linear(300, 300)\n",
    "        self.l1 = torch.nn.Linear(3 * 4 * 300, 1800)\n",
    "        self.l2 = torch.nn.Linear(1800, 900)\n",
    "        self.l3 = torch.nn.Linear(900, 450)\n",
    "        self.l4 = torch.nn.Linear(450, 24)\n",
    "        # 24 outputs = 4 permute 3 codes\n",
    "\n",
    "\n",
    "    def forward(self, k: torch.Tensor, c: torch.Tensor):\n",
    "        k = self.k(k)\n",
    "        c = self.c(c)\n",
    "        pairs = k.unsqueeze(-2) * c.unsqueeze(-3) * 85\n",
    "        x = pairs.flatten(-3)\n",
    "        x = torch.nn.functional.relu(self.l1(x))\n",
    "        x = torch.nn.functional.relu(self.l2(x))\n",
    "        x = torch.nn.functional.relu(self.l3(x))\n",
    "        x = torch.nn.functional.relu(self.l4(x))\n",
    "        return x\n",
    "    \n",
    "classifier = ClueClassifierKeyCluePairs().to(device)\n",
    "optimizer  = torch.optim.Adam(classifier.parameters(), lr=1e-5)\n",
    "\n",
    "# maximizing log-likelihood is a decent metric for this classification - see unsupervised notebook for more\n",
    "loss_func = torch.nn.CrossEntropyLoss()\n",
    "\n",
    "# train loop\n",
    "model_path = \"model_state_key_clue_pairs.pt\"\n",
    "if not os.path.exists(model_path):\n",
    "    for epoch, loss in enumerate(train_loop(classifier)):\n",
    "        training_losses[\"key_clue_pairs\"].append(loss)\n",
    "        print(f\"Epoch {epoch} loss: {loss}\")\n",
    "    with open(model_path, 'wb') as f:\n",
    "        torch.save(classifier.state_dict(), f)\n",
    "else:\n",
    "    with open(model_path, 'rb') as f:\n",
    "        classifier.load_state_dict(torch.load(f))"
   ]
  },
  {
   "cell_type": "code",
   "execution_count": 17,
   "metadata": {},
   "outputs": [
    {
     "name": "stdout",
     "output_type": "stream",
     "text": [
      "14400\n",
      "tensor(0.9378)\n"
     ]
    }
   ],
   "source": [
    "test_features, test_target = test_df.drop('code_index', axis=1), test_df['code_index']\n",
    "testing_data = [((features_to_tensor(test_features.iloc[i][:4]), features_to_tensor(test_features.iloc[i][4:])), test_target.iloc[i]) for i in range(len(test_features))]\n",
    "with torch.no_grad():\n",
    "    total = len(testing_data)\n",
    "    correct = 0\n",
    "    for (K, C), y in testing_data:\n",
    "        out = classifier(K, C)\n",
    "        guess = torch.argmax(torch.softmax(out, 0))\n",
    "        correct += guess == y\n",
    "print(len(testing_data))\n",
    "print(correct / total)"
   ]
  },
  {
   "cell_type": "markdown",
   "metadata": {},
   "source": [
    "That's pretty great; it blows our unsupervised guessers out of the water. It may even be to the point of starting to learn the biases of the synthetic dataset. Let's compare the training loss for each of our models."
   ]
  },
  {
   "cell_type": "code",
   "execution_count": 23,
   "metadata": {},
   "outputs": [
    {
     "data": {
      "image/png": "[encoded data removed]",
      "text/plain": [
       "<Figure size 640x480 with 1 Axes>"
      ]
     },
     "metadata": {},
     "output_type": "display_data"
    }
   ],
   "source": [
    "for model_name, losses in training_losses.items():\n",
    "    plt.plot(losses, label=model_name)\n",
    "\n",
    "plt.xlabel('Epoch')\n",
    "plt.ylabel('Training Loss')\n",
    "plt.title('Training Loss of Different Models')\n",
    "plt.legend(loc=\"upper right\")\n",
    "\n",
    "plt.xticks(list(range(20)))\n",
    "ax = plt.gca()\n",
    "ax.set_ylim([0, 3.5])\n",
    "\n",
    "plt.show()\n"
   ]
  },
  {
   "cell_type": "markdown",
   "metadata": {},
   "source": [
    "However, this model scales pretty terribly."
   ]
  },
  {
   "cell_type": "code",
   "execution_count": 19,
   "metadata": {},
   "outputs": [
    {
     "name": "stdout",
     "output_type": "stream",
     "text": [
      "8699574\n"
     ]
    }
   ],
   "source": [
    "print(sum(p.numel() for p in classifier.parameters()))"
   ]
  },
  {
   "cell_type": "markdown",
   "metadata": {},
   "source": [
    "This has almost 9M parameters for only 7 input words, or 7 * 300 = 2100 features if we consider the Google News embeddings. This is mostly attributed to the matrix idea from earlier; we are essentially squaring the number of features by introducing this idea."
   ]
  }
 ],
 "metadata": {
  "kernelspec": {
   "display_name": ".venv",
   "language": "python",
   "name": "python3"
  },
  "language_info": {
   "codemirror_mode": {
    "name": "ipython",
    "version": 3
   },
   "file_extension": ".py",
   "mimetype": "text/x-python",
   "name": "python",
   "nbconvert_exporter": "python",
   "pygments_lexer": "ipython3",
   "version": "3.12.3"
  },
  "orig_nbformat": 4
 },
 "nbformat": 4,
 "nbformat_minor": 2
}
