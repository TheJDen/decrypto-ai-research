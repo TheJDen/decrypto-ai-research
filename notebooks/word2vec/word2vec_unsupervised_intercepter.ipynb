{
 "cells": [
  {
   "cell_type": "markdown",
   "metadata": {},
   "source": [
    "# Using Word2Vec Embedding to extend Unsupervised Intecepter POC\n",
    "\n",
    "Let's try applying our intercepter POC with our tried and true guesser heuristics"
   ]
  },
  {
   "cell_type": "code",
   "execution_count": 1,
   "metadata": {},
   "outputs": [
    {
     "name": "stdout",
     "output_type": "stream",
     "text": [
      "Loading 200000 keys\n"
     ]
    }
   ],
   "source": [
    "import decryptoai.word2vec_loader.loader as wv_loader\n",
    "\n",
    "limit = 200_000\n",
    "print(f\"Loading {limit} keys\")\n",
    "google_news_wv = wv_loader.load_word2vec_keyedvectors(limit=limit, debug=True)"
   ]
  },
  {
   "cell_type": "code",
   "execution_count": 2,
   "metadata": {},
   "outputs": [],
   "source": [
    "# pre-normalize all the vectors\n",
    "google_news_wv.unit_normalize_all()"
   ]
  },
  {
   "cell_type": "markdown",
   "metadata": {},
   "source": [
    "Check out the datamuse synthetic dataset notebook if you haven't already. Let's use our associated word JSON to see how well our Intercepter converges on a keyword given associated clues."
   ]
  },
  {
   "cell_type": "code",
   "execution_count": 3,
   "metadata": {},
   "outputs": [],
   "source": [
    "import decryptoai.synthetic_dataset.synthetic_datamuse as sd\n",
    "import decryptoai.config as cfg\n",
    "import json\n",
    "\n",
    "with open(str(cfg.MEANING_JSON_PATH)) as f:\n",
    "    meaning_json_object = json.load(f)\n",
    "\n",
    "with open(str(cfg.TRIGGERWORD_JSON_PATH)) as f:\n",
    "    triggerword_json_object = json.load(f)\n",
    "\n",
    "\n",
    "def legal(keyword, word):\n",
    "    no_inclusion = (keyword not in word) and (word not in keyword)\n",
    "    no_british = word not in [\"armour\", \"moustache\", \"theatre\", \"mustache\", \"armor\", \"theater\"]\n",
    "    return no_inclusion and no_british and word in google_news_wv \n",
    "\n",
    "meaning_dataset = sd.filter_illegal_cluewords(legal, meaning_json_object)\n",
    "triggerword_dataset = sd.filter_illegal_cluewords(legal, triggerword_json_object)\n"
   ]
  },
  {
   "cell_type": "code",
   "execution_count": 4,
   "metadata": {},
   "outputs": [
    {
     "name": "stdout",
     "output_type": "stream",
     "text": [
      "('winter', 'path', 'festival', 'poison')\n",
      "200000\n",
      "ok\n",
      "plotted\n",
      "1\n"
     ]
    },
    {
     "ename": "TypeError",
     "evalue": "unhashable type: 'numpy.ndarray'",
     "output_type": "error",
     "traceback": [
      "\u001b[0;31m---------------------------------------------------------------------------\u001b[0m",
      "\u001b[0;31mTypeError\u001b[0m                                 Traceback (most recent call last)",
      "\u001b[1;32m/Users/jadenrodriguez/Projects/decrypto-ai-research/notebooks/word2vec/word2vec_unsupervised_intercepter.ipynb Cell 6\u001b[0m line \u001b[0;36m3\n\u001b[1;32m     <a href='vscode-notebook-cell:/Users/jadenrodriguez/Projects/decrypto-ai-research/notebooks/word2vec/word2vec_unsupervised_intercepter.ipynb#W5sZmlsZQ%3D%3D?line=31'>32</a>\u001b[0m codewords \u001b[39m=\u001b[39m (hidden_wv_kw_card[i] \u001b[39mfor\u001b[39;00m i \u001b[39min\u001b[39;00m code)\n\u001b[1;32m     <a href='vscode-notebook-cell:/Users/jadenrodriguez/Projects/decrypto-ai-research/notebooks/word2vec/word2vec_unsupervised_intercepter.ipynb#W5sZmlsZQ%3D%3D?line=32'>33</a>\u001b[0m clue \u001b[39m=\u001b[39m nguesser\u001b[39m.\u001b[39mnp_clues(sd\u001b[39m.\u001b[39mclue_from_codewords(meaning_dataset, codewords), google_news_wv\u001b[39m.\u001b[39mkey_to_index)\n\u001b[0;32m---> <a href='vscode-notebook-cell:/Users/jadenrodriguez/Projects/decrypto-ai-research/notebooks/word2vec/word2vec_unsupervised_intercepter.ipynb#W5sZmlsZQ%3D%3D?line=33'>34</a>\u001b[0m log_probs \u001b[39m=\u001b[39m nguesser\u001b[39m.\u001b[39;49mlog_expected_probabilities_codes(clue_and_keyword_to_log_prob_func, reduced_random_vars, clue)\n\u001b[1;32m     <a href='vscode-notebook-cell:/Users/jadenrodriguez/Projects/decrypto-ai-research/notebooks/word2vec/word2vec_unsupervised_intercepter.ipynb#W5sZmlsZQ%3D%3D?line=34'>35</a>\u001b[0m guess \u001b[39m=\u001b[39m sd\u001b[39m.\u001b[39mall_possible_codes()[np\u001b[39m.\u001b[39margmax(log_probs)]\n\u001b[1;32m     <a href='vscode-notebook-cell:/Users/jadenrodriguez/Projects/decrypto-ai-research/notebooks/word2vec/word2vec_unsupervised_intercepter.ipynb#W5sZmlsZQ%3D%3D?line=35'>36</a>\u001b[0m guesses\u001b[39m.\u001b[39mappend(guess)\n",
      "File \u001b[0;32m~/Projects/decrypto-ai-research/decryptoai/decryptoai/players/unsupervised/numpy_guesser.py:59\u001b[0m, in \u001b[0;36mlog_expected_probabilities_codes\u001b[0;34m(clue_and_keyword_to_log_probability_func, random_variables, clue_indices, codes)\u001b[0m\n\u001b[1;32m     57\u001b[0m r_i, c_i \u001b[39m=\u001b[39m np\u001b[39m.\u001b[39mogrid[\u001b[39mslice\u001b[39m(\u001b[39mlen\u001b[39m(random_variables)), \u001b[39mslice\u001b[39m(\u001b[39mlen\u001b[39m(clue_indices))]\n\u001b[1;32m     58\u001b[0m keyword_to_log_prob_vectorized \u001b[39m=\u001b[39m partial(clue_and_keyword_to_log_probability_func, clue_indices[c_i])\n\u001b[0;32m---> 59\u001b[0m log_expected_probabilities \u001b[39m=\u001b[39m log_expected_probability(keyword_to_log_prob_vectorized, var_log_probabilities[r_i], var_keyword_indices[r_i])\n\u001b[1;32m     60\u001b[0m \u001b[39mreturn\u001b[39;00m log_expected_probabilities[codes]\u001b[39m.\u001b[39mtrace(axis1\u001b[39m=\u001b[39m\u001b[39m1\u001b[39m, axis2\u001b[39m=\u001b[39m\u001b[39m2\u001b[39m)\n",
      "File \u001b[0;32m~/Projects/decrypto-ai-research/decryptoai/decryptoai/players/unsupervised/numpy_guesser.py:43\u001b[0m, in \u001b[0;36mlog_expected_probability\u001b[0;34m(keyword_index_to_log_prob_func, log_probabilities, keyword_indices)\u001b[0m\n\u001b[1;32m     41\u001b[0m \u001b[39mdef\u001b[39;00m \u001b[39mlog_expected_probability\u001b[39m(keyword_index_to_log_prob_func, log_probabilities: np\u001b[39m.\u001b[39mndarray, keyword_indices: np\u001b[39m.\u001b[39mndarray): \u001b[39m# this is log equivalent of E[f(X)]\u001b[39;00m\n\u001b[1;32m     42\u001b[0m     \u001b[39m# calculate terms of expectation sum definition\u001b[39;00m\n\u001b[0;32m---> 43\u001b[0m     log_terms \u001b[39m=\u001b[39m log_probabilities \u001b[39m+\u001b[39m keyword_index_to_log_prob_func(keyword_indices)\n\u001b[1;32m     44\u001b[0m     \u001b[39m# subtract max term to mitigate error\u001b[39;00m\n\u001b[1;32m     45\u001b[0m     \u001b[39m# note: if we lose a lot of precision, we can omit the conversion and reduce, but it will be slower)\u001b[39;00m\n\u001b[1;32m     46\u001b[0m     max_log_term \u001b[39m=\u001b[39m np\u001b[39m.\u001b[39mmax(log_terms, axis\u001b[39m=\u001b[39m\u001b[39m-\u001b[39m\u001b[39m1\u001b[39m)\n",
      "File \u001b[0;32m~/Projects/decrypto-ai-research/decryptoai/decryptoai/players/unsupervised/naive_heuristics.py:15\u001b[0m, in \u001b[0;36mlog_normalized_cosine_similarity\u001b[0;34m(embedding, clue_index, keyword_index)\u001b[0m\n\u001b[1;32m     14\u001b[0m \u001b[39mdef\u001b[39;00m \u001b[39mlog_normalized_cosine_similarity\u001b[39m(embedding, clue_index, keyword_index):\n\u001b[0;32m---> 15\u001b[0m     similarity \u001b[39m=\u001b[39m cosine_similarity(embedding, clue_index, keyword_index)\n\u001b[1;32m     16\u001b[0m     normalized_similiarity \u001b[39m=\u001b[39m (\u001b[39m1\u001b[39m \u001b[39m+\u001b[39m similarity) \u001b[39m/\u001b[39m \u001b[39m2\u001b[39m\n\u001b[1;32m     17\u001b[0m     \u001b[39mreturn\u001b[39;00m np\u001b[39m.\u001b[39mlog(normalized_similiarity)\n",
      "File \u001b[0;32m~/Projects/decrypto-ai-research/decryptoai/decryptoai/players/unsupervised/naive_heuristics.py:5\u001b[0m, in \u001b[0;36mcosine_similarity\u001b[0;34m(embedding, clue_index, keyword_index)\u001b[0m\n\u001b[1;32m      3\u001b[0m \u001b[39mdef\u001b[39;00m \u001b[39mcosine_similarity\u001b[39m(embedding, clue_index, keyword_index):\n\u001b[1;32m      4\u001b[0m     clue_embedding \u001b[39m=\u001b[39m embedding[clue_index\u001b[39m.\u001b[39msqueeze()]\u001b[39m.\u001b[39mtranspose()\n\u001b[0;32m----> 5\u001b[0m     keyword_embedding \u001b[39m=\u001b[39m embedding[keyword_index\u001b[39m.\u001b[39;49msqueeze()]\n\u001b[1;32m      6\u001b[0m     \u001b[39mreturn\u001b[39;00m np\u001b[39m.\u001b[39mexpand_dims(keyword_embedding\u001b[39m.\u001b[39mdot(clue_embedding), axis\u001b[39m=\u001b[39m\u001b[39m-\u001b[39m\u001b[39m1\u001b[39m)\n",
      "File \u001b[0;32m~/Projects/decrypto-ai-research/.venv/lib/python3.11/site-packages/gensim/models/keyedvectors.py:405\u001b[0m, in \u001b[0;36mKeyedVectors.__getitem__\u001b[0;34m(self, key_or_keys)\u001b[0m\n\u001b[1;32m    402\u001b[0m \u001b[39mif\u001b[39;00m \u001b[39misinstance\u001b[39m(key_or_keys, _KEY_TYPES):\n\u001b[1;32m    403\u001b[0m     \u001b[39mreturn\u001b[39;00m \u001b[39mself\u001b[39m\u001b[39m.\u001b[39mget_vector(key_or_keys)\n\u001b[0;32m--> 405\u001b[0m \u001b[39mreturn\u001b[39;00m vstack([\u001b[39mself\u001b[39;49m\u001b[39m.\u001b[39;49mget_vector(key) \u001b[39mfor\u001b[39;49;00m key \u001b[39min\u001b[39;49;00m key_or_keys])\n",
      "File \u001b[0;32m~/Projects/decrypto-ai-research/.venv/lib/python3.11/site-packages/gensim/models/keyedvectors.py:405\u001b[0m, in \u001b[0;36m<listcomp>\u001b[0;34m(.0)\u001b[0m\n\u001b[1;32m    402\u001b[0m \u001b[39mif\u001b[39;00m \u001b[39misinstance\u001b[39m(key_or_keys, _KEY_TYPES):\n\u001b[1;32m    403\u001b[0m     \u001b[39mreturn\u001b[39;00m \u001b[39mself\u001b[39m\u001b[39m.\u001b[39mget_vector(key_or_keys)\n\u001b[0;32m--> 405\u001b[0m \u001b[39mreturn\u001b[39;00m vstack([\u001b[39mself\u001b[39;49m\u001b[39m.\u001b[39;49mget_vector(key) \u001b[39mfor\u001b[39;00m key \u001b[39min\u001b[39;00m key_or_keys])\n",
      "File \u001b[0;32m~/Projects/decrypto-ai-research/.venv/lib/python3.11/site-packages/gensim/models/keyedvectors.py:446\u001b[0m, in \u001b[0;36mKeyedVectors.get_vector\u001b[0;34m(self, key, norm)\u001b[0m\n\u001b[1;32m    422\u001b[0m \u001b[39mdef\u001b[39;00m \u001b[39mget_vector\u001b[39m(\u001b[39mself\u001b[39m, key, norm\u001b[39m=\u001b[39m\u001b[39mFalse\u001b[39;00m):\n\u001b[1;32m    423\u001b[0m \u001b[39m    \u001b[39m\u001b[39m\"\"\"Get the key's vector, as a 1D numpy array.\u001b[39;00m\n\u001b[1;32m    424\u001b[0m \n\u001b[1;32m    425\u001b[0m \u001b[39m    Parameters\u001b[39;00m\n\u001b[0;32m   (...)\u001b[0m\n\u001b[1;32m    444\u001b[0m \n\u001b[1;32m    445\u001b[0m \u001b[39m    \"\"\"\u001b[39;00m\n\u001b[0;32m--> 446\u001b[0m     index \u001b[39m=\u001b[39m \u001b[39mself\u001b[39;49m\u001b[39m.\u001b[39;49mget_index(key)\n\u001b[1;32m    447\u001b[0m     \u001b[39mif\u001b[39;00m norm:\n\u001b[1;32m    448\u001b[0m         \u001b[39mself\u001b[39m\u001b[39m.\u001b[39mfill_norms()\n",
      "File \u001b[0;32m~/Projects/decrypto-ai-research/.venv/lib/python3.11/site-packages/gensim/models/keyedvectors.py:412\u001b[0m, in \u001b[0;36mKeyedVectors.get_index\u001b[0;34m(self, key, default)\u001b[0m\n\u001b[1;32m    407\u001b[0m \u001b[39mdef\u001b[39;00m \u001b[39mget_index\u001b[39m(\u001b[39mself\u001b[39m, key, default\u001b[39m=\u001b[39m\u001b[39mNone\u001b[39;00m):\n\u001b[1;32m    408\u001b[0m \u001b[39m    \u001b[39m\u001b[39m\"\"\"Return the integer index (slot/position) where the given key's vector is stored in the\u001b[39;00m\n\u001b[1;32m    409\u001b[0m \u001b[39m    backing vectors array.\u001b[39;00m\n\u001b[1;32m    410\u001b[0m \n\u001b[1;32m    411\u001b[0m \u001b[39m    \"\"\"\u001b[39;00m\n\u001b[0;32m--> 412\u001b[0m     val \u001b[39m=\u001b[39m \u001b[39mself\u001b[39m\u001b[39m.\u001b[39mkey_to_index\u001b[39m.\u001b[39mget(key, \u001b[39m-\u001b[39m\u001b[39m1\u001b[39m)\n\u001b[1;32m    413\u001b[0m     \u001b[39mif\u001b[39;00m val \u001b[39m>\u001b[39m\u001b[39m=\u001b[39m \u001b[39m0\u001b[39m:\n\u001b[1;32m    414\u001b[0m         \u001b[39mreturn\u001b[39;00m val\n",
      "\u001b[0;31mTypeError\u001b[0m: unhashable type: 'numpy.ndarray'"
     ]
    },
    {
     "data": {
      "image/png": "[encoded data removed]",
      "text/plain": [
       "<Figure size 640x480 with 24 Axes>"
      ]
     },
     "metadata": {},
     "output_type": "display_data"
    }
   ],
   "source": [
    "import decryptoai.players.unsupervised.naive_heuristics as heuristics\n",
    "import decryptoai.players.unsupervised.numpy_guesser as nguesser\n",
    "import decryptoai.players.unsupervised.numpy_intercepter as nintercepter\n",
    "from decryptoai.analysis.plot_tools import plot_random_vars\n",
    "import matplotlib.pyplot as plt\n",
    "import decryptogame as dg\n",
    "import numpy as np\n",
    "from functools import partial\n",
    "\n",
    "\n",
    "[hidden_kw_card] = next(dg.generators.RandomKeywordCards(card_lengths=[4], seed=200))\n",
    "code_generator = dg.generators.RandomCodes([hidden_kw_card], seed=200)\n",
    "hidden_wv_kw_card = tuple(wv_loader.official_keyword_to_word(keyword) for keyword in hidden_kw_card)\n",
    "print(hidden_wv_kw_card)\n",
    "\n",
    "num_rounds = 5\n",
    "clue_and_keyword_to_log_prob_func = partial(heuristics.log_normalized_cosine_similarity, google_news_wv)\n",
    "\n",
    "_, axs = plt.subplots(4, num_rounds + 1, sharex=True, sharey=True)\n",
    "random_vars = nintercepter.intercepter_random_variables(google_news_wv.key_to_index, nintercepter.equal_initial_distribution)\n",
    "reduced_random_vars = nguesser.random_vars_at_least_cumulative_probability(random_vars, 0.1)\n",
    "print(len(random_vars[0].log_probabilities))\n",
    "print(\"ok\")\n",
    "codes = []\n",
    "guesses = []\n",
    "#plot_random_vars(random_vars, axs)\n",
    "print(\"plotted\")\n",
    "for round in range(1, num_rounds + 1):\n",
    "    print(round)\n",
    "    [code] = next(code_generator)\n",
    "    codes.append(code)\n",
    "    codewords = (hidden_wv_kw_card[i] for i in code)\n",
    "    clue = nguesser.np_clues(sd.clue_from_codewords(meaning_dataset, codewords), google_news_wv.key_to_index)\n",
    "    log_probs = nguesser.log_expected_probabilities_codes(clue_and_keyword_to_log_prob_func, reduced_random_vars, clue)\n",
    "    guess = sd.all_possible_codes()[np.argmax(log_probs)]\n",
    "    guesses.append(guess)\n",
    "    reduced_random_vars = nintercepter.updated_random_vars(clue_and_keyword_to_log_prob_func, reduced_random_vars, clue, np.array(code))\n",
    "    #plot_random_vars(reduced_random_vars, axs, round=round)\n",
    "\n",
    "print(codes)\n",
    "print(guesses)\n"
   ]
  }
 ],
 "metadata": {
  "kernelspec": {
   "display_name": ".venv",
   "language": "python",
   "name": "python3"
  },
  "language_info": {
   "codemirror_mode": {
    "name": "ipython",
    "version": 3
   },
   "file_extension": ".py",
   "mimetype": "text/x-python",
   "name": "python",
   "nbconvert_exporter": "python",
   "pygments_lexer": "ipython3",
   "version": "3.11.3"
  }
 },
 "nbformat": 4,
 "nbformat_minor": 2
}
