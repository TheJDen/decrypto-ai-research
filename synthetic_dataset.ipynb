{
 "cells": [
  {
   "cell_type": "markdown",
   "metadata": {},
   "source": [
    "## Creating better clue datasets\n",
    "\n",
    "To create some clues that are based on having similar meaning or based on words triggered by a codeword, we can use the [Datamuse API](https://www.datamuse.com/api/)."
   ]
  },
  {
   "cell_type": "code",
   "execution_count": 2,
   "metadata": {},
   "outputs": [
    {
     "name": "stdout",
     "output_type": "stream",
     "text": [
      "Loading 200000 keys\n"
     ]
    },
    {
     "ename": "AttributeError",
     "evalue": "module 'word2vec_loader' has no attribute 'google_news_path_name'",
     "output_type": "error",
     "traceback": [
      "\u001b[0;31m---------------------------------------------------------------------------\u001b[0m",
      "\u001b[0;31mAttributeError\u001b[0m                            Traceback (most recent call last)",
      "Cell \u001b[0;32mIn[2], line 6\u001b[0m\n\u001b[1;32m      4\u001b[0m limit \u001b[39m=\u001b[39m \u001b[39m200_000\u001b[39m\n\u001b[1;32m      5\u001b[0m \u001b[39mprint\u001b[39m(\u001b[39mf\u001b[39m\u001b[39m\"\u001b[39m\u001b[39mLoading \u001b[39m\u001b[39m{\u001b[39;00mlimit\u001b[39m}\u001b[39;00m\u001b[39m keys\u001b[39m\u001b[39m\"\u001b[39m)\n\u001b[0;32m----> 6\u001b[0m google_news_wv \u001b[39m=\u001b[39m wv_loader\u001b[39m.\u001b[39mload_word2vec_keyedvectors(wv_loader\u001b[39m.\u001b[39;49mgoogle_news_path_name, limit)\n",
      "\u001b[0;31mAttributeError\u001b[0m: module 'word2vec_loader' has no attribute 'google_news_path_name'"
     ]
    }
   ],
   "source": [
    "# load word2vec model\n",
    "import word2vec_loader as wv_loader\n",
    "\n",
    "limit = 200_000\n",
    "print(f\"Loading {limit} keys\")\n",
    "google_news_wv = wv_loader.load_word2vec_keyedvectors(wv_loader.google_news_path_name, limit)"
   ]
  },
  {
   "cell_type": "markdown",
   "metadata": {},
   "source": [
    "To create some clues that are based on having similar meaning or based on words triggered by a codeword, we can use the [Datamuse API](https://www.datamuse.com/api/)."
   ]
  },
  {
   "cell_type": "code",
   "execution_count": null,
   "metadata": {},
   "outputs": [
    {
     "name": "stdout",
     "output_type": "stream",
     "text": [
      "Loading meaning dataset\n",
      "Loading triggerword dataset\n",
      "Done!\n"
     ]
    }
   ],
   "source": [
    "\n",
    "import asyncio\n",
    "import aiohttp\n",
    "import decryptogame as dg\n",
    "import json\n",
    "import os\n",
    "\n",
    "def datamuse_url(endpoint: str, words: list[str]): # can add stuff for prefix/suffix support later\n",
    "    query_str = '+'.join(words)\n",
    "    return f\"https://api.datamuse.com/{endpoint}={query_str}\"\n",
    "\n",
    "async def fetch_text_response(session, url, return_id=None):\n",
    "    # return ID let's us associate the result with a paramater\n",
    "    # this allows us to know which word the reponse text is associated with\n",
    "    # despite being called asynchronously\n",
    "    async with session.get(url) as response:\n",
    "        text = await response.text()\n",
    "        return return_id, text\n",
    "\n",
    "async def fetch_text_responses(urls, return_ids):\n",
    "    async with aiohttp.ClientSession() as session:\n",
    "        api_calls = [fetch_text_response(session, *args) for args in zip(urls, return_ids)]\n",
    "        return [await response for response in asyncio.as_completed(api_calls)]\n",
    "\n",
    "# process responses for local storage\n",
    "\n",
    "def create_dataset_dict(responses):\n",
    "    meaning_dataset = {}\n",
    "    for word, response in responses:\n",
    "        response_object = json.loads(response)\n",
    "        meaning_dataset[word] = response_object\n",
    "    return meaning_dataset\n",
    "\n",
    "async def load_dataset_from_path(path_str, endpoint: str, words):\n",
    "    if not os.path.exists(path_str):\n",
    "\n",
    "        urls = [datamuse_url(endpoint, [word]) for word in words]\n",
    "        responses = await fetch_text_responses(urls, words)\n",
    "\n",
    "        dataset = create_dataset_dict(responses)\n",
    "\n",
    "        with open(path_str, 'w') as f:\n",
    "            json.dump(dataset, f)\n",
    "    else:\n",
    "        with open(path_str) as f:\n",
    "            dataset = json.load(f)\n",
    "    return dataset\n",
    "\n",
    "\n",
    "meaning_dataset_path = \"meaning.json\"\n",
    "triggerword_dataset_path = \"trigger_word.json\"\n",
    "\n",
    "official_words = list(map(wv_loader.official_keyword_to_word, dg.official_words.english.words))\n",
    "\n",
    "print(\"Loading meaning dataset\")\n",
    "meaning_dataset = await load_dataset_from_path(meaning_dataset_path, \"words?ml\", official_words)\n",
    "\n",
    "print(\"Loading triggerword dataset\")\n",
    "triggerword_dataset = await load_dataset_from_path(triggerword_dataset_path, \"words?rel_trg\", official_words)\n",
    "\n",
    "\n",
    "print(\"Done!\")"
   ]
  },
  {
   "cell_type": "markdown",
   "metadata": {},
   "source": [
    "Let's see if we can use the similar meaning and trigger word datasets to come up with reasonable clues that would be more of a challenge for our Guesser. That is, let's see if we can make clues that follow the rules and that I might be able to guess myself."
   ]
  },
  {
   "cell_type": "code",
   "execution_count": null,
   "metadata": {},
   "outputs": [
    {
     "ename": "NameError",
     "evalue": "name 'meaning_dataset' is not defined",
     "output_type": "error",
     "traceback": [
      "\u001b[0;31m---------------------------------------------------------------------------\u001b[0m",
      "\u001b[0;31mNameError\u001b[0m                                 Traceback (most recent call last)",
      "Cell \u001b[0;32mIn[1], line 34\u001b[0m\n\u001b[1;32m     30\u001b[0m \u001b[39mdef\u001b[39;00m \u001b[39mcodewords\u001b[39m(keyword_card, code):\n\u001b[1;32m     31\u001b[0m     \u001b[39mreturn\u001b[39;00m  [wv_loader\u001b[39m.\u001b[39mofficial_keyword_to_word(keyword_card[i]) \u001b[39mfor\u001b[39;00m i \u001b[39min\u001b[39;00m code]\n\u001b[0;32m---> 34\u001b[0m meaning_dataset \u001b[39m=\u001b[39m filter_illegal_cluewords(legal, meaning_dataset)\n\u001b[1;32m     35\u001b[0m triggerword_dataset \u001b[39m=\u001b[39m filter_illegal_cluewords(legal, triggerword_dataset)\n\u001b[1;32m     38\u001b[0m [test_keyword_card] \u001b[39m=\u001b[39m \u001b[39mnext\u001b[39m(dg\u001b[39m.\u001b[39mgenerators\u001b[39m.\u001b[39mRandomKeywordCards(card_lengths\u001b[39m=\u001b[39m[\u001b[39m4\u001b[39m], seed\u001b[39m=\u001b[39m\u001b[39m200\u001b[39m))\n",
      "\u001b[0;31mNameError\u001b[0m: name 'meaning_dataset' is not defined"
     ]
    }
   ],
   "source": [
    "import random\n",
    "import numpy as np\n",
    "\n",
    "def filter_illegal_cluewords(legal_clue_func, datamuse_dataset):\n",
    "    filtered_dataset = {}\n",
    "    for keyword, info in datamuse_dataset.items():\n",
    "        legal_info = [word_info for word_info in info if legal_clue_func(keyword, word_info[\"word\"])]\n",
    "        filtered_dataset[keyword] = legal_info\n",
    "    return filtered_dataset        \n",
    "\n",
    "def clueword_from_dataset(datamuse_dataset, code_word, seed=400):\n",
    "    candidate_words = []\n",
    "    scores = []\n",
    "    if not datamuse_dataset[code_word]:\n",
    "        return \"garbage\"\n",
    "    for word_info in datamuse_dataset[code_word]:\n",
    "        candidate_words.append(word_info[\"word\"])\n",
    "        scores.append(word_info[\"score\"])\n",
    "    np_scores = np.asarray(scores)\n",
    "    probabilities = np_scores / np.sum(np_scores)\n",
    "    [clue] = random.Random(seed).choices(candidate_words, probabilities)\n",
    "    return clue\n",
    "\n",
    "def clue_from_codewords(datamuse_dataset, codewords, seed=200):\n",
    "    return tuple(clueword_from_dataset(datamuse_dataset, word, seed=seed) for word in code_words)\n",
    "\n",
    "def legal(keyword, word):\n",
    "    return word not in keyword and word in google_news_wv\n",
    "\n",
    "def codewords(keyword_card, code):\n",
    "    return  [wv_loader.official_keyword_to_word(keyword_card[i]) for i in code]\n",
    "\n",
    "\n",
    "meaning_dataset = filter_illegal_cluewords(legal, meaning_dataset)\n",
    "triggerword_dataset = filter_illegal_cluewords(legal, triggerword_dataset)\n",
    "\n",
    "\n",
    "[test_keyword_card] = next(dg.generators.RandomKeywordCards(card_lengths=[4], seed=200))\n",
    "[test_code] = next(dg.generators.RandomCodes([test_keyword_card], seed=200))\n",
    "\n",
    "print(test_keyword_card)\n",
    "print(test_code)\n",
    "\n",
    "meaning_clue = clue_from_codewords(meaning_dataset, codewords(test_keyword_card, test_code))\n",
    "triggerword_clue = clue_from_codewords(triggerword_dataset, codewords(test_keyword_card, test_code))\n",
    "\n",
    "print(meaning_clue)\n",
    "print(triggerword_clue)"
   ]
  },
  {
   "cell_type": "markdown",
   "metadata": {},
   "source": [
    "Those are some reasonable clues!"
   ]
  }
 ],
 "metadata": {
  "kernelspec": {
   "display_name": ".venv",
   "language": "python",
   "name": "python3"
  },
  "language_info": {
   "codemirror_mode": {
    "name": "ipython",
    "version": 3
   },
   "file_extension": ".py",
   "mimetype": "text/x-python",
   "name": "python",
   "nbconvert_exporter": "python",
   "pygments_lexer": "ipython3",
   "version": "3.11.3"
  },
  "orig_nbformat": 4
 },
 "nbformat": 4,
 "nbformat_minor": 2
}
